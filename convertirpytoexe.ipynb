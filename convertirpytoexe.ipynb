{
 "cells": [
  {
   "cell_type": "code",
   "execution_count": 1,
   "metadata": {},
   "outputs": [],
   "source": [
    "# para crear una archivo ejecutable de un archivo python se debe hacer"
   ]
  },
  {
   "cell_type": "code",
   "execution_count": 2,
   "metadata": {},
   "outputs": [],
   "source": [
    "#convertir el archivo jupyter en py\n",
    "# file/ download as como py"
   ]
  },
  {
   "cell_type": "code",
   "execution_count": null,
   "metadata": {},
   "outputs": [],
   "source": [
    "# instalar pyinstaller para convertir py en exe\n",
    "# pip install pyinstaller en la consola de anaconda\n",
    "# luego actualizarlo pip install --upgrade pyinstaller\n",
    "# verificar si funciona con el comando pyinstaller --version, en la misma ruta que queda el cursor\n",
    "# ir a  la ruta donde esta guardado el archivo py\n",
    "# dar el comando pyinstaller y nombre del archivo.py si no tiene gui\n",
    "# si tiene gui en windows se da el comando pyinstaller --onefile --windowed nombre del archivo.py\n",
    "# se genera dos carpetas y el archivo .exe con el mismo nombre.exe\n",
    "\n"
   ]
  }
 ],
 "metadata": {
  "kernelspec": {
   "display_name": "Python 3",
   "language": "python",
   "name": "python3"
  },
  "language_info": {
   "codemirror_mode": {
    "name": "ipython",
    "version": 3
   },
   "file_extension": ".py",
   "mimetype": "text/x-python",
   "name": "python",
   "nbconvert_exporter": "python",
   "pygments_lexer": "ipython3",
   "version": "3.6.7"
  }
 },
 "nbformat": 4,
 "nbformat_minor": 2
}
