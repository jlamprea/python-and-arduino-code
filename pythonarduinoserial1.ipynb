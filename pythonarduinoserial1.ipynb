{
 "cells": [
  {
   "cell_type": "code",
   "execution_count": 7,
   "metadata": {},
   "outputs": [],
   "source": [
    "import serial # manejo del puerto serial por pyserial, mas facil instalar por anaconda. pip install pyserial\n"
   ]
  },
  {
   "cell_type": "code",
   "execution_count": 18,
   "metadata": {},
   "outputs": [
    {
     "name": "stdout",
     "output_type": "stream",
     "text": [
      "Toca una tecla p\n",
      "p\n",
      "Led encendido\n",
      "Toca una tecla a\n",
      "a\n",
      "Led apagado\n",
      "Toca una tecla p\n",
      "p\n",
      "Led encendido\n",
      "Toca una tecla a\n",
      "a\n",
      "Led apagado\n",
      "Toca una tecla q\n",
      "q\n",
      "Exit\n"
     ]
    }
   ],
   "source": [
    "sercom = serial.Serial(\"COM5\",baudrate=9600, timeout=1) # numero de puerto COM, velocidad y tiempo de paradaa entre tramas\n",
    "salir=True\n",
    "\n",
    "while (salir):\n",
    "    userinput= input(\"Toca una tecla \") # lee una entrada de teclado\n",
    "    print(userinput)\n",
    "    if(userinput==\"p\"):\n",
    "        print(\"Led encendido\")\n",
    "        sercom.write(b\"p\") # se escribe en el puerto serial, el dato se presenta en bytes no string, para que sea una secuencia de palabras de 8 bits\n",
    "    elif(userinput==\"a\"):\n",
    "        print(\"Led apagado\")\n",
    "        sercom.write(b\"a\") # se escribe en el puerto serial\n",
    "        # para leer el puerto se usa datoin= sercom.readline().decode(\"ascii\") para convertirlo a ascii lo que se recibe\n",
    "    elif(userinput==\"q\"):# la uso para salir y no qiede por siempre en el ciclo\n",
    "        print(\"Exit\")\n",
    "        sercom.close() # se cierra el puerto para no verlo ocupado la prox vez\n",
    "        salir=False # salgo del ciclo while\n",
    "       # Se se prensenta problemas para abrir el puerto:\n",
    "        # presenta problemas con el software de arduino abierto, que estaba ocupado el puerto\n",
    "        # Se cerro el programa arduino y se resetea el kernel. asi libero el puerto con el arduino conectado\n",
    "        # toca cerrar el puerto para que no lo vea ocupado la siguiente vez\n",
    "\n",
    "\n",
    "\n",
    "\n"
   ]
  },
  {
   "cell_type": "code",
   "execution_count": 8,
   "metadata": {},
   "outputs": [],
   "source": []
  },
  {
   "cell_type": "code",
   "execution_count": null,
   "metadata": {},
   "outputs": [],
   "source": []
  }
 ],
 "metadata": {
  "kernelspec": {
   "display_name": "Python 3",
   "language": "python",
   "name": "python3"
  },
  "language_info": {
   "codemirror_mode": {
    "name": "ipython",
    "version": 3
   },
   "file_extension": ".py",
   "mimetype": "text/x-python",
   "name": "python",
   "nbconvert_exporter": "python",
   "pygments_lexer": "ipython3",
   "version": "3.6.7"
  }
 },
 "nbformat": 4,
 "nbformat_minor": 2
}
