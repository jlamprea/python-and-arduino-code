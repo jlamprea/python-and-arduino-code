{
 "cells": [
  {
   "cell_type": "code",
   "execution_count": 1,
   "metadata": {},
   "outputs": [],
   "source": [
    "from tkinter import * # importa libreria de GUI\n",
    "from tkinter import ttk"
   ]
  },
  {
   "cell_type": "code",
   "execution_count": 2,
   "metadata": {},
   "outputs": [],
   "source": [
    "import serial # importa libreria  puerto serial"
   ]
  },
  {
   "cell_type": "code",
   "execution_count": 16,
   "metadata": {},
   "outputs": [
    {
     "name": "stdout",
     "output_type": "stream",
     "text": [
      "prende Led\n",
      "apagar Led\n",
      "prende Led\n",
      "apagar Led\n"
     ]
    }
   ],
   "source": [
    "sercom = serial.Serial(\"COM5\",baudrate=9600, timeout=1) # numero de puerto COM, velocidad y tiempo de paradaa entre tramas\n",
    "Raiz = Tk() # crea el objeto de ventana\n",
    "Raiz.geometry(\"300x150\") # dimensiona la ventana\n",
    "Raiz.title(\"Activar Arduino Serial\")\n",
    "ventana=Frame(Raiz)# crea el frame en la ventana\n",
    "ventana.config(width=250, height=250,background=\"green\")# solo ejemplo para ver como queda el frame\n",
    "ventana.pack() # importante para ver el frame\n",
    "label1= Label(ventana, text=\"Oprima un Boton\", fg=\"blue\",font=20) # max a 14.\n",
    "label1.grid(row=2,column=2, sticky=\"e\") # ubica los label en la grilla del frame\n",
    "\n",
    "def fprender():\n",
    "    sercom.write(b\"p\") # se escribe en el puerto serial\n",
    "    print(\"prende Led\") # opcional solo para verificar\n",
    "def fapagar():\n",
    "    sercom.write(b\"a\")\n",
    "    print(\"apagar Led\")# opcional solo para verificar\n",
    "botonprender=Button(ventana,text=\"Prender\", command=fprender,width=20) # crea el boton y llama a la funcion al activarlo, funciones antes del boton\n",
    "botonprender.grid(row=3, column=2)\n",
    "botonapagar=Button(ventana,text=\"Apagar\", command=fapagar, width=20)\n",
    "botonapagar.grid(row=4,column=2)\n",
    "\n",
    "\n",
    "\n",
    "\n",
    "Raiz.mainloop()\n",
    "sercom.close() # importante para cerrar el puerto al cerrar la ventana.\n",
    "\n",
    "\n",
    "\n",
    "\n",
    "       # Si se prensenta problemas para abrir el puerto:\n",
    "        # presenta problemas con el software de arduino abierto, que estaba ocupado el puerto\n",
    "        # Se cierra el programa arduino y se resetea el kernel. asi libera el puerto con el arduino cuando esta conectado\n",
    "        # toca cerrar el puerto para que no lo vea ocupado la siguiente vez que se abre la ventana\n",
    "\n",
    "\n",
    "\n",
    "\n"
   ]
  },
  {
   "cell_type": "code",
   "execution_count": null,
   "metadata": {},
   "outputs": [],
   "source": []
  }
 ],
 "metadata": {
  "kernelspec": {
   "display_name": "Python 3",
   "language": "python",
   "name": "python3"
  },
  "language_info": {
   "codemirror_mode": {
    "name": "ipython",
    "version": 3
   },
   "file_extension": ".py",
   "mimetype": "text/x-python",
   "name": "python",
   "nbconvert_exporter": "python",
   "pygments_lexer": "ipython3",
   "version": "3.6.7"
  }
 },
 "nbformat": 4,
 "nbformat_minor": 2
}
